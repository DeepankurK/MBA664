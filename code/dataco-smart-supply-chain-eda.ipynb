{
 "cells": [
  {
   "cell_type": "code",
   "execution_count": 1,
   "id": "powered-hamilton",
   "metadata": {
    "_cell_guid": "b1076dfc-b9ad-4769-8c92-a6c4dae69d19",
    "_uuid": "8f2839f25d086af736a60e9eeb907d3b93b6e0e5",
    "execution": {
     "iopub.execute_input": "2021-06-21T11:48:01.583436Z",
     "iopub.status.busy": "2021-06-21T11:48:01.582449Z",
     "iopub.status.idle": "2021-06-21T11:48:01.601468Z",
     "shell.execute_reply": "2021-06-21T11:48:01.602233Z",
     "shell.execute_reply.started": "2021-05-29T12:07:22.521014Z"
    },
    "papermill": {
     "duration": 0.064301,
     "end_time": "2021-06-21T11:48:01.602739",
     "exception": false,
     "start_time": "2021-06-21T11:48:01.538438",
     "status": "completed"
    },
    "tags": []
   },
   "outputs": [
    {
     "name": "stdout",
     "output_type": "stream",
     "text": [
      "/kaggle/input/dataco-smart-supply-chain-for-big-data-analysis/tokenized_access_logs.csv\n",
      "/kaggle/input/dataco-smart-supply-chain-for-big-data-analysis/DataCoSupplyChainDataset.csv\n",
      "/kaggle/input/dataco-smart-supply-chain-for-big-data-analysis/DescriptionDataCoSupplyChain.csv\n"
     ]
    }
   ],
   "source": [
    "# This Python 3 environment comes with many helpful analytics libraries installed\n",
    "# It is defined by the kaggle/python Docker image: https://github.com/kaggle/docker-python\n",
    "# For example, here's several helpful packages to load\n",
    "\n",
    "import numpy as np # linear algebra\n",
    "import pandas as pd # data processing, CSV file I/O (e.g. pd.read_csv)\n",
    "\n",
    "# Input data files are available in the read-only \"../input/\" directory\n",
    "# For example, running this (by clicking run or pressing Shift+Enter) will list all files under the input directory\n",
    "\n",
    "import os\n",
    "for dirname, _, filenames in os.walk('/kaggle/input'):\n",
    "    for filename in filenames:\n",
    "        print(os.path.join(dirname, filename))\n",
    "\n",
    "# You can write up to 20GB to the current directory (/kaggle/working/) that gets preserved as output when you create a version using \"Save & Run All\" \n",
    "# You can also write temporary files to /kaggle/temp/, but they won't be saved outside of the current session"
   ]
  },
  {
   "cell_type": "markdown",
   "id": "choice-robert",
   "metadata": {
    "papermill": {
     "duration": 0.026641,
     "end_time": "2021-06-21T11:48:01.658514",
     "exception": false,
     "start_time": "2021-06-21T11:48:01.631873",
     "status": "completed"
    },
    "tags": []
   },
   "source": [
    "<strong>Importing the dependencies<strong>"
   ]
  },
  {
   "cell_type": "code",
   "execution_count": 2,
   "id": "western-tracker",
   "metadata": {
    "execution": {
     "iopub.execute_input": "2021-06-21T11:48:01.714848Z",
     "iopub.status.busy": "2021-06-21T11:48:01.714045Z",
     "iopub.status.idle": "2021-06-21T11:48:02.610655Z",
     "shell.execute_reply": "2021-06-21T11:48:02.609930Z",
     "shell.execute_reply.started": "2021-05-29T12:07:22.552908Z"
    },
    "papermill": {
     "duration": 0.928768,
     "end_time": "2021-06-21T11:48:02.610822",
     "exception": false,
     "start_time": "2021-06-21T11:48:01.682054",
     "status": "completed"
    },
    "tags": []
   },
   "outputs": [],
   "source": [
    "pd.set_option('display.max_columns', 100)\n",
    "import matplotlib.pyplot as plt\n",
    "%matplotlib inline\n",
    "import seaborn as sns"
   ]
  },
  {
   "cell_type": "markdown",
   "id": "coated-sessions",
   "metadata": {
    "papermill": {
     "duration": 0.022028,
     "end_time": "2021-06-21T11:48:02.655615",
     "exception": false,
     "start_time": "2021-06-21T11:48:02.633587",
     "status": "completed"
    },
    "tags": []
   },
   "source": [
    "<strong>Reading the Data</strong>"
   ]
  },
  {
   "cell_type": "code",
   "execution_count": 3,
   "id": "resident-confidence",
   "metadata": {
    "execution": {
     "iopub.execute_input": "2021-06-21T11:48:02.707759Z",
     "iopub.status.busy": "2021-06-21T11:48:02.707070Z",
     "iopub.status.idle": "2021-06-21T11:48:06.410727Z",
     "shell.execute_reply": "2021-06-21T11:48:06.410125Z",
     "shell.execute_reply.started": "2021-05-29T12:07:23.439071Z"
    },
    "papermill": {
     "duration": 3.731519,
     "end_time": "2021-06-21T11:48:06.410886",
     "exception": false,
     "start_time": "2021-06-21T11:48:02.679367",
     "status": "completed"
    },
    "tags": []
   },
   "outputs": [
    {
     "data": {
      "text/html": [
       "<div>\n",
       "<style scoped>\n",
       "    .dataframe tbody tr th:only-of-type {\n",
       "        vertical-align: middle;\n",
       "    }\n",
       "\n",
       "    .dataframe tbody tr th {\n",
       "        vertical-align: top;\n",
       "    }\n",
       "\n",
       "    .dataframe thead th {\n",
       "        text-align: right;\n",
       "    }\n",
       "</style>\n",
       "<table border=\"1\" class=\"dataframe\">\n",
       "  <thead>\n",
       "    <tr style=\"text-align: right;\">\n",
       "      <th></th>\n",
       "      <th>Type</th>\n",
       "      <th>Days for shipping (real)</th>\n",
       "      <th>Days for shipment (scheduled)</th>\n",
       "      <th>Benefit per order</th>\n",
       "      <th>Sales per customer</th>\n",
       "      <th>Delivery Status</th>\n",
       "      <th>Late_delivery_risk</th>\n",
       "      <th>Category Id</th>\n",
       "      <th>Category Name</th>\n",
       "      <th>Customer City</th>\n",
       "      <th>Customer Country</th>\n",
       "      <th>Customer Email</th>\n",
       "      <th>Customer Fname</th>\n",
       "      <th>Customer Id</th>\n",
       "      <th>Customer Lname</th>\n",
       "      <th>Customer Password</th>\n",
       "      <th>Customer Segment</th>\n",
       "      <th>Customer State</th>\n",
       "      <th>Customer Street</th>\n",
       "      <th>Customer Zipcode</th>\n",
       "      <th>Department Id</th>\n",
       "      <th>Department Name</th>\n",
       "      <th>Latitude</th>\n",
       "      <th>Longitude</th>\n",
       "      <th>Market</th>\n",
       "      <th>Order City</th>\n",
       "      <th>Order Country</th>\n",
       "      <th>Order Customer Id</th>\n",
       "      <th>order date (DateOrders)</th>\n",
       "      <th>Order Id</th>\n",
       "      <th>Order Item Cardprod Id</th>\n",
       "      <th>Order Item Discount</th>\n",
       "      <th>Order Item Discount Rate</th>\n",
       "      <th>Order Item Id</th>\n",
       "      <th>Order Item Product Price</th>\n",
       "      <th>Order Item Profit Ratio</th>\n",
       "      <th>Order Item Quantity</th>\n",
       "      <th>Sales</th>\n",
       "      <th>Order Item Total</th>\n",
       "      <th>Order Profit Per Order</th>\n",
       "      <th>Order Region</th>\n",
       "      <th>Order State</th>\n",
       "      <th>Order Status</th>\n",
       "      <th>Order Zipcode</th>\n",
       "      <th>Product Card Id</th>\n",
       "      <th>Product Category Id</th>\n",
       "      <th>Product Description</th>\n",
       "      <th>Product Image</th>\n",
       "      <th>Product Name</th>\n",
       "      <th>Product Price</th>\n",
       "      <th>Product Status</th>\n",
       "      <th>shipping date (DateOrders)</th>\n",
       "      <th>Shipping Mode</th>\n",
       "    </tr>\n",
       "  </thead>\n",
       "  <tbody>\n",
       "    <tr>\n",
       "      <th>0</th>\n",
       "      <td>DEBIT</td>\n",
       "      <td>3</td>\n",
       "      <td>4</td>\n",
       "      <td>91.250000</td>\n",
       "      <td>314.640015</td>\n",
       "      <td>Advance shipping</td>\n",
       "      <td>0</td>\n",
       "      <td>73</td>\n",
       "      <td>Sporting Goods</td>\n",
       "      <td>Caguas</td>\n",
       "      <td>Puerto Rico</td>\n",
       "      <td>XXXXXXXXX</td>\n",
       "      <td>Cally</td>\n",
       "      <td>20755</td>\n",
       "      <td>Holloway</td>\n",
       "      <td>XXXXXXXXX</td>\n",
       "      <td>Consumer</td>\n",
       "      <td>PR</td>\n",
       "      <td>5365 Noble Nectar Island</td>\n",
       "      <td>725.0</td>\n",
       "      <td>2</td>\n",
       "      <td>Fitness</td>\n",
       "      <td>18.251453</td>\n",
       "      <td>-66.037056</td>\n",
       "      <td>Pacific Asia</td>\n",
       "      <td>Bekasi</td>\n",
       "      <td>Indonesia</td>\n",
       "      <td>20755</td>\n",
       "      <td>1/31/2018 22:56</td>\n",
       "      <td>77202</td>\n",
       "      <td>1360</td>\n",
       "      <td>13.110000</td>\n",
       "      <td>0.04</td>\n",
       "      <td>180517</td>\n",
       "      <td>327.75</td>\n",
       "      <td>0.29</td>\n",
       "      <td>1</td>\n",
       "      <td>327.75</td>\n",
       "      <td>314.640015</td>\n",
       "      <td>91.250000</td>\n",
       "      <td>Southeast Asia</td>\n",
       "      <td>Java Occidental</td>\n",
       "      <td>COMPLETE</td>\n",
       "      <td>NaN</td>\n",
       "      <td>1360</td>\n",
       "      <td>73</td>\n",
       "      <td>NaN</td>\n",
       "      <td>http://images.acmesports.sports/Smart+watch</td>\n",
       "      <td>Smart watch</td>\n",
       "      <td>327.75</td>\n",
       "      <td>0</td>\n",
       "      <td>2/3/2018 22:56</td>\n",
       "      <td>Standard Class</td>\n",
       "    </tr>\n",
       "    <tr>\n",
       "      <th>1</th>\n",
       "      <td>TRANSFER</td>\n",
       "      <td>5</td>\n",
       "      <td>4</td>\n",
       "      <td>-249.089996</td>\n",
       "      <td>311.359985</td>\n",
       "      <td>Late delivery</td>\n",
       "      <td>1</td>\n",
       "      <td>73</td>\n",
       "      <td>Sporting Goods</td>\n",
       "      <td>Caguas</td>\n",
       "      <td>Puerto Rico</td>\n",
       "      <td>XXXXXXXXX</td>\n",
       "      <td>Irene</td>\n",
       "      <td>19492</td>\n",
       "      <td>Luna</td>\n",
       "      <td>XXXXXXXXX</td>\n",
       "      <td>Consumer</td>\n",
       "      <td>PR</td>\n",
       "      <td>2679 Rustic Loop</td>\n",
       "      <td>725.0</td>\n",
       "      <td>2</td>\n",
       "      <td>Fitness</td>\n",
       "      <td>18.279451</td>\n",
       "      <td>-66.037064</td>\n",
       "      <td>Pacific Asia</td>\n",
       "      <td>Bikaner</td>\n",
       "      <td>India</td>\n",
       "      <td>19492</td>\n",
       "      <td>1/13/2018 12:27</td>\n",
       "      <td>75939</td>\n",
       "      <td>1360</td>\n",
       "      <td>16.389999</td>\n",
       "      <td>0.05</td>\n",
       "      <td>179254</td>\n",
       "      <td>327.75</td>\n",
       "      <td>-0.80</td>\n",
       "      <td>1</td>\n",
       "      <td>327.75</td>\n",
       "      <td>311.359985</td>\n",
       "      <td>-249.089996</td>\n",
       "      <td>South Asia</td>\n",
       "      <td>Rajast�n</td>\n",
       "      <td>PENDING</td>\n",
       "      <td>NaN</td>\n",
       "      <td>1360</td>\n",
       "      <td>73</td>\n",
       "      <td>NaN</td>\n",
       "      <td>http://images.acmesports.sports/Smart+watch</td>\n",
       "      <td>Smart watch</td>\n",
       "      <td>327.75</td>\n",
       "      <td>0</td>\n",
       "      <td>1/18/2018 12:27</td>\n",
       "      <td>Standard Class</td>\n",
       "    </tr>\n",
       "    <tr>\n",
       "      <th>2</th>\n",
       "      <td>CASH</td>\n",
       "      <td>4</td>\n",
       "      <td>4</td>\n",
       "      <td>-247.779999</td>\n",
       "      <td>309.720001</td>\n",
       "      <td>Shipping on time</td>\n",
       "      <td>0</td>\n",
       "      <td>73</td>\n",
       "      <td>Sporting Goods</td>\n",
       "      <td>San Jose</td>\n",
       "      <td>EE. UU.</td>\n",
       "      <td>XXXXXXXXX</td>\n",
       "      <td>Gillian</td>\n",
       "      <td>19491</td>\n",
       "      <td>Maldonado</td>\n",
       "      <td>XXXXXXXXX</td>\n",
       "      <td>Consumer</td>\n",
       "      <td>CA</td>\n",
       "      <td>8510 Round Bear Gate</td>\n",
       "      <td>95125.0</td>\n",
       "      <td>2</td>\n",
       "      <td>Fitness</td>\n",
       "      <td>37.292233</td>\n",
       "      <td>-121.881279</td>\n",
       "      <td>Pacific Asia</td>\n",
       "      <td>Bikaner</td>\n",
       "      <td>India</td>\n",
       "      <td>19491</td>\n",
       "      <td>1/13/2018 12:06</td>\n",
       "      <td>75938</td>\n",
       "      <td>1360</td>\n",
       "      <td>18.030001</td>\n",
       "      <td>0.06</td>\n",
       "      <td>179253</td>\n",
       "      <td>327.75</td>\n",
       "      <td>-0.80</td>\n",
       "      <td>1</td>\n",
       "      <td>327.75</td>\n",
       "      <td>309.720001</td>\n",
       "      <td>-247.779999</td>\n",
       "      <td>South Asia</td>\n",
       "      <td>Rajast�n</td>\n",
       "      <td>CLOSED</td>\n",
       "      <td>NaN</td>\n",
       "      <td>1360</td>\n",
       "      <td>73</td>\n",
       "      <td>NaN</td>\n",
       "      <td>http://images.acmesports.sports/Smart+watch</td>\n",
       "      <td>Smart watch</td>\n",
       "      <td>327.75</td>\n",
       "      <td>0</td>\n",
       "      <td>1/17/2018 12:06</td>\n",
       "      <td>Standard Class</td>\n",
       "    </tr>\n",
       "    <tr>\n",
       "      <th>3</th>\n",
       "      <td>DEBIT</td>\n",
       "      <td>3</td>\n",
       "      <td>4</td>\n",
       "      <td>22.860001</td>\n",
       "      <td>304.809998</td>\n",
       "      <td>Advance shipping</td>\n",
       "      <td>0</td>\n",
       "      <td>73</td>\n",
       "      <td>Sporting Goods</td>\n",
       "      <td>Los Angeles</td>\n",
       "      <td>EE. UU.</td>\n",
       "      <td>XXXXXXXXX</td>\n",
       "      <td>Tana</td>\n",
       "      <td>19490</td>\n",
       "      <td>Tate</td>\n",
       "      <td>XXXXXXXXX</td>\n",
       "      <td>Home Office</td>\n",
       "      <td>CA</td>\n",
       "      <td>3200 Amber Bend</td>\n",
       "      <td>90027.0</td>\n",
       "      <td>2</td>\n",
       "      <td>Fitness</td>\n",
       "      <td>34.125946</td>\n",
       "      <td>-118.291016</td>\n",
       "      <td>Pacific Asia</td>\n",
       "      <td>Townsville</td>\n",
       "      <td>Australia</td>\n",
       "      <td>19490</td>\n",
       "      <td>1/13/2018 11:45</td>\n",
       "      <td>75937</td>\n",
       "      <td>1360</td>\n",
       "      <td>22.940001</td>\n",
       "      <td>0.07</td>\n",
       "      <td>179252</td>\n",
       "      <td>327.75</td>\n",
       "      <td>0.08</td>\n",
       "      <td>1</td>\n",
       "      <td>327.75</td>\n",
       "      <td>304.809998</td>\n",
       "      <td>22.860001</td>\n",
       "      <td>Oceania</td>\n",
       "      <td>Queensland</td>\n",
       "      <td>COMPLETE</td>\n",
       "      <td>NaN</td>\n",
       "      <td>1360</td>\n",
       "      <td>73</td>\n",
       "      <td>NaN</td>\n",
       "      <td>http://images.acmesports.sports/Smart+watch</td>\n",
       "      <td>Smart watch</td>\n",
       "      <td>327.75</td>\n",
       "      <td>0</td>\n",
       "      <td>1/16/2018 11:45</td>\n",
       "      <td>Standard Class</td>\n",
       "    </tr>\n",
       "    <tr>\n",
       "      <th>4</th>\n",
       "      <td>PAYMENT</td>\n",
       "      <td>2</td>\n",
       "      <td>4</td>\n",
       "      <td>134.210007</td>\n",
       "      <td>298.250000</td>\n",
       "      <td>Advance shipping</td>\n",
       "      <td>0</td>\n",
       "      <td>73</td>\n",
       "      <td>Sporting Goods</td>\n",
       "      <td>Caguas</td>\n",
       "      <td>Puerto Rico</td>\n",
       "      <td>XXXXXXXXX</td>\n",
       "      <td>Orli</td>\n",
       "      <td>19489</td>\n",
       "      <td>Hendricks</td>\n",
       "      <td>XXXXXXXXX</td>\n",
       "      <td>Corporate</td>\n",
       "      <td>PR</td>\n",
       "      <td>8671 Iron Anchor Corners</td>\n",
       "      <td>725.0</td>\n",
       "      <td>2</td>\n",
       "      <td>Fitness</td>\n",
       "      <td>18.253769</td>\n",
       "      <td>-66.037048</td>\n",
       "      <td>Pacific Asia</td>\n",
       "      <td>Townsville</td>\n",
       "      <td>Australia</td>\n",
       "      <td>19489</td>\n",
       "      <td>1/13/2018 11:24</td>\n",
       "      <td>75936</td>\n",
       "      <td>1360</td>\n",
       "      <td>29.500000</td>\n",
       "      <td>0.09</td>\n",
       "      <td>179251</td>\n",
       "      <td>327.75</td>\n",
       "      <td>0.45</td>\n",
       "      <td>1</td>\n",
       "      <td>327.75</td>\n",
       "      <td>298.250000</td>\n",
       "      <td>134.210007</td>\n",
       "      <td>Oceania</td>\n",
       "      <td>Queensland</td>\n",
       "      <td>PENDING_PAYMENT</td>\n",
       "      <td>NaN</td>\n",
       "      <td>1360</td>\n",
       "      <td>73</td>\n",
       "      <td>NaN</td>\n",
       "      <td>http://images.acmesports.sports/Smart+watch</td>\n",
       "      <td>Smart watch</td>\n",
       "      <td>327.75</td>\n",
       "      <td>0</td>\n",
       "      <td>1/15/2018 11:24</td>\n",
       "      <td>Standard Class</td>\n",
       "    </tr>\n",
       "  </tbody>\n",
       "</table>\n",
       "</div>"
      ],
      "text/plain": [
       "       Type  Days for shipping (real)  Days for shipment (scheduled)  \\\n",
       "0     DEBIT                         3                              4   \n",
       "1  TRANSFER                         5                              4   \n",
       "2      CASH                         4                              4   \n",
       "3     DEBIT                         3                              4   \n",
       "4   PAYMENT                         2                              4   \n",
       "\n",
       "   Benefit per order  Sales per customer   Delivery Status  \\\n",
       "0          91.250000          314.640015  Advance shipping   \n",
       "1        -249.089996          311.359985     Late delivery   \n",
       "2        -247.779999          309.720001  Shipping on time   \n",
       "3          22.860001          304.809998  Advance shipping   \n",
       "4         134.210007          298.250000  Advance shipping   \n",
       "\n",
       "   Late_delivery_risk  Category Id   Category Name Customer City  \\\n",
       "0                   0           73  Sporting Goods        Caguas   \n",
       "1                   1           73  Sporting Goods        Caguas   \n",
       "2                   0           73  Sporting Goods      San Jose   \n",
       "3                   0           73  Sporting Goods   Los Angeles   \n",
       "4                   0           73  Sporting Goods        Caguas   \n",
       "\n",
       "  Customer Country Customer Email Customer Fname  Customer Id Customer Lname  \\\n",
       "0      Puerto Rico      XXXXXXXXX          Cally        20755       Holloway   \n",
       "1      Puerto Rico      XXXXXXXXX          Irene        19492           Luna   \n",
       "2          EE. UU.      XXXXXXXXX        Gillian        19491      Maldonado   \n",
       "3          EE. UU.      XXXXXXXXX           Tana        19490           Tate   \n",
       "4      Puerto Rico      XXXXXXXXX           Orli        19489      Hendricks   \n",
       "\n",
       "  Customer Password Customer Segment Customer State           Customer Street  \\\n",
       "0         XXXXXXXXX         Consumer             PR  5365 Noble Nectar Island   \n",
       "1         XXXXXXXXX         Consumer             PR          2679 Rustic Loop   \n",
       "2         XXXXXXXXX         Consumer             CA      8510 Round Bear Gate   \n",
       "3         XXXXXXXXX      Home Office             CA           3200 Amber Bend   \n",
       "4         XXXXXXXXX        Corporate             PR  8671 Iron Anchor Corners   \n",
       "\n",
       "   Customer Zipcode  Department Id Department Name   Latitude   Longitude  \\\n",
       "0             725.0              2         Fitness  18.251453  -66.037056   \n",
       "1             725.0              2         Fitness  18.279451  -66.037064   \n",
       "2           95125.0              2         Fitness  37.292233 -121.881279   \n",
       "3           90027.0              2         Fitness  34.125946 -118.291016   \n",
       "4             725.0              2         Fitness  18.253769  -66.037048   \n",
       "\n",
       "         Market  Order City Order Country  Order Customer Id  \\\n",
       "0  Pacific Asia      Bekasi     Indonesia              20755   \n",
       "1  Pacific Asia     Bikaner         India              19492   \n",
       "2  Pacific Asia     Bikaner         India              19491   \n",
       "3  Pacific Asia  Townsville     Australia              19490   \n",
       "4  Pacific Asia  Townsville     Australia              19489   \n",
       "\n",
       "  order date (DateOrders)  Order Id  Order Item Cardprod Id  \\\n",
       "0         1/31/2018 22:56     77202                    1360   \n",
       "1         1/13/2018 12:27     75939                    1360   \n",
       "2         1/13/2018 12:06     75938                    1360   \n",
       "3         1/13/2018 11:45     75937                    1360   \n",
       "4         1/13/2018 11:24     75936                    1360   \n",
       "\n",
       "   Order Item Discount  Order Item Discount Rate  Order Item Id  \\\n",
       "0            13.110000                      0.04         180517   \n",
       "1            16.389999                      0.05         179254   \n",
       "2            18.030001                      0.06         179253   \n",
       "3            22.940001                      0.07         179252   \n",
       "4            29.500000                      0.09         179251   \n",
       "\n",
       "   Order Item Product Price  Order Item Profit Ratio  Order Item Quantity  \\\n",
       "0                    327.75                     0.29                    1   \n",
       "1                    327.75                    -0.80                    1   \n",
       "2                    327.75                    -0.80                    1   \n",
       "3                    327.75                     0.08                    1   \n",
       "4                    327.75                     0.45                    1   \n",
       "\n",
       "    Sales  Order Item Total  Order Profit Per Order    Order Region  \\\n",
       "0  327.75        314.640015               91.250000  Southeast Asia   \n",
       "1  327.75        311.359985             -249.089996      South Asia   \n",
       "2  327.75        309.720001             -247.779999      South Asia   \n",
       "3  327.75        304.809998               22.860001         Oceania   \n",
       "4  327.75        298.250000              134.210007         Oceania   \n",
       "\n",
       "       Order State     Order Status  Order Zipcode  Product Card Id  \\\n",
       "0  Java Occidental         COMPLETE            NaN             1360   \n",
       "1         Rajast�n          PENDING            NaN             1360   \n",
       "2         Rajast�n           CLOSED            NaN             1360   \n",
       "3       Queensland         COMPLETE            NaN             1360   \n",
       "4       Queensland  PENDING_PAYMENT            NaN             1360   \n",
       "\n",
       "   Product Category Id  Product Description  \\\n",
       "0                   73                  NaN   \n",
       "1                   73                  NaN   \n",
       "2                   73                  NaN   \n",
       "3                   73                  NaN   \n",
       "4                   73                  NaN   \n",
       "\n",
       "                                  Product Image  Product Name  Product Price  \\\n",
       "0  http://images.acmesports.sports/Smart+watch   Smart watch          327.75   \n",
       "1  http://images.acmesports.sports/Smart+watch   Smart watch          327.75   \n",
       "2  http://images.acmesports.sports/Smart+watch   Smart watch          327.75   \n",
       "3  http://images.acmesports.sports/Smart+watch   Smart watch          327.75   \n",
       "4  http://images.acmesports.sports/Smart+watch   Smart watch          327.75   \n",
       "\n",
       "   Product Status shipping date (DateOrders)   Shipping Mode  \n",
       "0               0             2/3/2018 22:56  Standard Class  \n",
       "1               0            1/18/2018 12:27  Standard Class  \n",
       "2               0            1/17/2018 12:06  Standard Class  \n",
       "3               0            1/16/2018 11:45  Standard Class  \n",
       "4               0            1/15/2018 11:24  Standard Class  "
      ]
     },
     "execution_count": 3,
     "metadata": {},
     "output_type": "execute_result"
    }
   ],
   "source": [
    "\n",
    "df=pd.read_csv(\"/kaggle/input/dataco-smart-supply-chain-for-big-data-analysis/DataCoSupplyChainDataset.csv\")\n",
    "df.head()\n"
   ]
  },
  {
   "cell_type": "code",
   "execution_count": 4,
   "id": "essential-notebook",
   "metadata": {
    "execution": {
     "iopub.execute_input": "2021-06-21T11:48:06.463066Z",
     "iopub.status.busy": "2021-06-21T11:48:06.462284Z",
     "iopub.status.idle": "2021-06-21T11:48:06.484302Z",
     "shell.execute_reply": "2021-06-21T11:48:06.484783Z",
     "shell.execute_reply.started": "2021-05-29T12:07:26.928485Z"
    },
    "papermill": {
     "duration": 0.050614,
     "end_time": "2021-06-21T11:48:06.484971",
     "exception": false,
     "start_time": "2021-06-21T11:48:06.434357",
     "status": "completed"
    },
    "tags": []
   },
   "outputs": [
    {
     "data": {
      "text/html": [
       "<div>\n",
       "<style scoped>\n",
       "    .dataframe tbody tr th:only-of-type {\n",
       "        vertical-align: middle;\n",
       "    }\n",
       "\n",
       "    .dataframe tbody tr th {\n",
       "        vertical-align: top;\n",
       "    }\n",
       "\n",
       "    .dataframe thead th {\n",
       "        text-align: right;\n",
       "    }\n",
       "</style>\n",
       "<table border=\"1\" class=\"dataframe\">\n",
       "  <thead>\n",
       "    <tr style=\"text-align: right;\">\n",
       "      <th></th>\n",
       "      <th>FIELDS</th>\n",
       "      <th>DESCRIPTION</th>\n",
       "    </tr>\n",
       "  </thead>\n",
       "  <tbody>\n",
       "    <tr>\n",
       "      <th>0</th>\n",
       "      <td>Type</td>\n",
       "      <td>:  Type of transaction made</td>\n",
       "    </tr>\n",
       "    <tr>\n",
       "      <th>1</th>\n",
       "      <td>Days for shipping (real)</td>\n",
       "      <td>:  Actual shipping days of the purchased product</td>\n",
       "    </tr>\n",
       "    <tr>\n",
       "      <th>2</th>\n",
       "      <td>Days for shipment (scheduled)</td>\n",
       "      <td>:  Days of scheduled delivery of the purchased...</td>\n",
       "    </tr>\n",
       "    <tr>\n",
       "      <th>3</th>\n",
       "      <td>Benefit per order</td>\n",
       "      <td>:  Earnings per order placed</td>\n",
       "    </tr>\n",
       "    <tr>\n",
       "      <th>4</th>\n",
       "      <td>Sales per customer</td>\n",
       "      <td>:  Total sales per customer made per customer</td>\n",
       "    </tr>\n",
       "    <tr>\n",
       "      <th>5</th>\n",
       "      <td>Delivery Status</td>\n",
       "      <td>:  Delivery status of orders: Advance shipping...</td>\n",
       "    </tr>\n",
       "    <tr>\n",
       "      <th>6</th>\n",
       "      <td>Late_delivery_risk</td>\n",
       "      <td>:  Categorical variable that indicates if send...</td>\n",
       "    </tr>\n",
       "    <tr>\n",
       "      <th>7</th>\n",
       "      <td>Category Id</td>\n",
       "      <td>:  Product category code</td>\n",
       "    </tr>\n",
       "    <tr>\n",
       "      <th>8</th>\n",
       "      <td>Category Name</td>\n",
       "      <td>:  Description of the product category</td>\n",
       "    </tr>\n",
       "    <tr>\n",
       "      <th>9</th>\n",
       "      <td>Customer City</td>\n",
       "      <td>:  City where the customer made the purchase</td>\n",
       "    </tr>\n",
       "    <tr>\n",
       "      <th>10</th>\n",
       "      <td>Customer Country</td>\n",
       "      <td>:  Country where the customer made the purchase</td>\n",
       "    </tr>\n",
       "    <tr>\n",
       "      <th>11</th>\n",
       "      <td>Customer Email</td>\n",
       "      <td>:  Customer's email</td>\n",
       "    </tr>\n",
       "    <tr>\n",
       "      <th>12</th>\n",
       "      <td>Customer Fname</td>\n",
       "      <td>:  Customer name</td>\n",
       "    </tr>\n",
       "    <tr>\n",
       "      <th>13</th>\n",
       "      <td>Customer Id</td>\n",
       "      <td>:  Customer ID</td>\n",
       "    </tr>\n",
       "    <tr>\n",
       "      <th>14</th>\n",
       "      <td>Customer Lname</td>\n",
       "      <td>:  Customer lastname</td>\n",
       "    </tr>\n",
       "    <tr>\n",
       "      <th>15</th>\n",
       "      <td>Customer Password</td>\n",
       "      <td>:  Masked customer key</td>\n",
       "    </tr>\n",
       "    <tr>\n",
       "      <th>16</th>\n",
       "      <td>Customer Segment</td>\n",
       "      <td>:  Types of Customers: Consumer , Corporate , ...</td>\n",
       "    </tr>\n",
       "    <tr>\n",
       "      <th>17</th>\n",
       "      <td>Customer State</td>\n",
       "      <td>:  State to which the store where the purchase...</td>\n",
       "    </tr>\n",
       "    <tr>\n",
       "      <th>18</th>\n",
       "      <td>Customer Street</td>\n",
       "      <td>:  Street to which the store where the purchas...</td>\n",
       "    </tr>\n",
       "    <tr>\n",
       "      <th>19</th>\n",
       "      <td>Customer Zipcode</td>\n",
       "      <td>:  Customer Zipcode</td>\n",
       "    </tr>\n",
       "    <tr>\n",
       "      <th>20</th>\n",
       "      <td>Department Id</td>\n",
       "      <td>:  Department code of store</td>\n",
       "    </tr>\n",
       "    <tr>\n",
       "      <th>21</th>\n",
       "      <td>Department Name</td>\n",
       "      <td>:  Department name of store</td>\n",
       "    </tr>\n",
       "    <tr>\n",
       "      <th>22</th>\n",
       "      <td>Latitude</td>\n",
       "      <td>:  Latitude corresponding to location of store</td>\n",
       "    </tr>\n",
       "    <tr>\n",
       "      <th>23</th>\n",
       "      <td>Longitude</td>\n",
       "      <td>:  Longitude corresponding to location of store</td>\n",
       "    </tr>\n",
       "    <tr>\n",
       "      <th>24</th>\n",
       "      <td>Market</td>\n",
       "      <td>:  Market to where the order is delivered : Af...</td>\n",
       "    </tr>\n",
       "    <tr>\n",
       "      <th>25</th>\n",
       "      <td>Order City</td>\n",
       "      <td>:  Destination city of the order</td>\n",
       "    </tr>\n",
       "    <tr>\n",
       "      <th>26</th>\n",
       "      <td>Order Country</td>\n",
       "      <td>:  Destination country of the order</td>\n",
       "    </tr>\n",
       "    <tr>\n",
       "      <th>27</th>\n",
       "      <td>Order Customer Id</td>\n",
       "      <td>:  Customer order code</td>\n",
       "    </tr>\n",
       "    <tr>\n",
       "      <th>28</th>\n",
       "      <td>order date (DateOrders)</td>\n",
       "      <td>:  Date on which the order is made</td>\n",
       "    </tr>\n",
       "    <tr>\n",
       "      <th>29</th>\n",
       "      <td>Order Id</td>\n",
       "      <td>:  Order code</td>\n",
       "    </tr>\n",
       "    <tr>\n",
       "      <th>30</th>\n",
       "      <td>Order Item Cardprod Id</td>\n",
       "      <td>:  Product code generated through the RFID reader</td>\n",
       "    </tr>\n",
       "    <tr>\n",
       "      <th>31</th>\n",
       "      <td>Order Item Discount</td>\n",
       "      <td>:  Order item discount value</td>\n",
       "    </tr>\n",
       "    <tr>\n",
       "      <th>32</th>\n",
       "      <td>Order Item Discount Rate</td>\n",
       "      <td>:  Order item discount percentage</td>\n",
       "    </tr>\n",
       "    <tr>\n",
       "      <th>33</th>\n",
       "      <td>Order Item Id</td>\n",
       "      <td>:  Order item code</td>\n",
       "    </tr>\n",
       "    <tr>\n",
       "      <th>34</th>\n",
       "      <td>Order Item Product Price</td>\n",
       "      <td>:  Price of products without discount</td>\n",
       "    </tr>\n",
       "    <tr>\n",
       "      <th>35</th>\n",
       "      <td>Order Item Profit Ratio</td>\n",
       "      <td>:  Order Item Profit Ratio</td>\n",
       "    </tr>\n",
       "    <tr>\n",
       "      <th>36</th>\n",
       "      <td>Order Item Quantity</td>\n",
       "      <td>:  Number of products per order</td>\n",
       "    </tr>\n",
       "    <tr>\n",
       "      <th>37</th>\n",
       "      <td>Sales</td>\n",
       "      <td>:  Value in sales</td>\n",
       "    </tr>\n",
       "    <tr>\n",
       "      <th>38</th>\n",
       "      <td>Order Item Total</td>\n",
       "      <td>:  Total amount per order</td>\n",
       "    </tr>\n",
       "    <tr>\n",
       "      <th>39</th>\n",
       "      <td>Order Profit Per Order</td>\n",
       "      <td>:  Order Profit Per Order</td>\n",
       "    </tr>\n",
       "    <tr>\n",
       "      <th>40</th>\n",
       "      <td>Order Region</td>\n",
       "      <td>:  Region of the world where the order is deli...</td>\n",
       "    </tr>\n",
       "    <tr>\n",
       "      <th>41</th>\n",
       "      <td>Order State</td>\n",
       "      <td>:  State of the region where the order is deli...</td>\n",
       "    </tr>\n",
       "    <tr>\n",
       "      <th>42</th>\n",
       "      <td>Order Status</td>\n",
       "      <td>:  Order Status : COMPLETE , PENDING , CLOSED ...</td>\n",
       "    </tr>\n",
       "    <tr>\n",
       "      <th>43</th>\n",
       "      <td>Product Card Id</td>\n",
       "      <td>:  Product code</td>\n",
       "    </tr>\n",
       "    <tr>\n",
       "      <th>44</th>\n",
       "      <td>Product Category Id</td>\n",
       "      <td>:  Product category code</td>\n",
       "    </tr>\n",
       "    <tr>\n",
       "      <th>45</th>\n",
       "      <td>Product Description</td>\n",
       "      <td>:  Product Description</td>\n",
       "    </tr>\n",
       "    <tr>\n",
       "      <th>46</th>\n",
       "      <td>Product Image</td>\n",
       "      <td>:  Link of visit and purchase of the product</td>\n",
       "    </tr>\n",
       "    <tr>\n",
       "      <th>47</th>\n",
       "      <td>Product Name</td>\n",
       "      <td>:  Product Name</td>\n",
       "    </tr>\n",
       "    <tr>\n",
       "      <th>48</th>\n",
       "      <td>Product Price</td>\n",
       "      <td>:  Product Price</td>\n",
       "    </tr>\n",
       "    <tr>\n",
       "      <th>49</th>\n",
       "      <td>Product Status</td>\n",
       "      <td>:  Status of the product stock :If it is 1 not...</td>\n",
       "    </tr>\n",
       "    <tr>\n",
       "      <th>50</th>\n",
       "      <td>Shipping date (DateOrders)</td>\n",
       "      <td>:  Exact date and time of shipment</td>\n",
       "    </tr>\n",
       "    <tr>\n",
       "      <th>51</th>\n",
       "      <td>Shipping Mode</td>\n",
       "      <td>:  The following shipping modes are presented ...</td>\n",
       "    </tr>\n",
       "  </tbody>\n",
       "</table>\n",
       "</div>"
      ],
      "text/plain": [
       "                           FIELDS  \\\n",
       "0                            Type   \n",
       "1   Days for shipping (real)        \n",
       "2   Days for shipment (scheduled)   \n",
       "3               Benefit per order   \n",
       "4              Sales per customer   \n",
       "5                 Delivery Status   \n",
       "6   Late_delivery_risk              \n",
       "7                     Category Id   \n",
       "8                   Category Name   \n",
       "9                   Customer City   \n",
       "10               Customer Country   \n",
       "11                 Customer Email   \n",
       "12                 Customer Fname   \n",
       "13                    Customer Id   \n",
       "14                 Customer Lname   \n",
       "15              Customer Password   \n",
       "16               Customer Segment   \n",
       "17                 Customer State   \n",
       "18                Customer Street   \n",
       "19               Customer Zipcode   \n",
       "20                  Department Id   \n",
       "21                Department Name   \n",
       "22                       Latitude   \n",
       "23                      Longitude   \n",
       "24                         Market   \n",
       "25                     Order City   \n",
       "26                  Order Country   \n",
       "27              Order Customer Id   \n",
       "28        order date (DateOrders)   \n",
       "29                       Order Id   \n",
       "30         Order Item Cardprod Id   \n",
       "31            Order Item Discount   \n",
       "32  Order Item Discount Rate        \n",
       "33                  Order Item Id   \n",
       "34  Order Item Product Price        \n",
       "35        Order Item Profit Ratio   \n",
       "36            Order Item Quantity   \n",
       "37                          Sales   \n",
       "38             Order Item Total     \n",
       "39         Order Profit Per Order   \n",
       "40                   Order Region   \n",
       "41                    Order State   \n",
       "42                   Order Status   \n",
       "43                Product Card Id   \n",
       "44            Product Category Id   \n",
       "45            Product Description   \n",
       "46                  Product Image   \n",
       "47                   Product Name   \n",
       "48                  Product Price   \n",
       "49                 Product Status   \n",
       "50  Shipping date (DateOrders)      \n",
       "51                  Shipping Mode   \n",
       "\n",
       "                                          DESCRIPTION  \n",
       "0                         :  Type of transaction made  \n",
       "1    :  Actual shipping days of the purchased product  \n",
       "2   :  Days of scheduled delivery of the purchased...  \n",
       "3                        :  Earnings per order placed  \n",
       "4       :  Total sales per customer made per customer  \n",
       "5   :  Delivery status of orders: Advance shipping...  \n",
       "6   :  Categorical variable that indicates if send...  \n",
       "7                            :  Product category code  \n",
       "8              :  Description of the product category  \n",
       "9        :  City where the customer made the purchase  \n",
       "10    :  Country where the customer made the purchase  \n",
       "11                                :  Customer's email  \n",
       "12                                   :  Customer name  \n",
       "13                                     :  Customer ID  \n",
       "14                               :  Customer lastname  \n",
       "15                             :  Masked customer key  \n",
       "16  :  Types of Customers: Consumer , Corporate , ...  \n",
       "17  :  State to which the store where the purchase...  \n",
       "18  :  Street to which the store where the purchas...  \n",
       "19                                :  Customer Zipcode  \n",
       "20                        :  Department code of store  \n",
       "21                        :  Department name of store  \n",
       "22     :  Latitude corresponding to location of store  \n",
       "23    :  Longitude corresponding to location of store  \n",
       "24  :  Market to where the order is delivered : Af...  \n",
       "25                   :  Destination city of the order  \n",
       "26                :  Destination country of the order  \n",
       "27                             :  Customer order code  \n",
       "28                 :  Date on which the order is made  \n",
       "29                                      :  Order code  \n",
       "30  :  Product code generated through the RFID reader  \n",
       "31                       :  Order item discount value  \n",
       "32                  :  Order item discount percentage  \n",
       "33                                 :  Order item code  \n",
       "34              :  Price of products without discount  \n",
       "35                         :  Order Item Profit Ratio  \n",
       "36                    :  Number of products per order  \n",
       "37                                  :  Value in sales  \n",
       "38                          :  Total amount per order  \n",
       "39                          :  Order Profit Per Order  \n",
       "40  :  Region of the world where the order is deli...  \n",
       "41  :  State of the region where the order is deli...  \n",
       "42  :  Order Status : COMPLETE , PENDING , CLOSED ...  \n",
       "43                                    :  Product code  \n",
       "44                           :  Product category code  \n",
       "45                             :  Product Description  \n",
       "46       :  Link of visit and purchase of the product  \n",
       "47                                    :  Product Name  \n",
       "48                                   :  Product Price  \n",
       "49  :  Status of the product stock :If it is 1 not...  \n",
       "50                 :  Exact date and time of shipment  \n",
       "51  :  The following shipping modes are presented ...  "
      ]
     },
     "execution_count": 4,
     "metadata": {},
     "output_type": "execute_result"
    }
   ],
   "source": [
    "df_info=pd.read_csv(\"/kaggle/input/dataco-smart-supply-chain-for-big-data-analysis/DescriptionDataCoSupplyChain.csv\")\n",
    "df_info"
   ]
  },
  {
   "cell_type": "markdown",
   "id": "settled-footage",
   "metadata": {
    "papermill": {
     "duration": 0.023916,
     "end_time": "2021-06-21T11:48:06.533096",
     "exception": false,
     "start_time": "2021-06-21T11:48:06.509180",
     "status": "completed"
    },
    "tags": []
   },
   "source": [
    "<strong>Basic EDA</strong>"
   ]
  },
  {
   "cell_type": "code",
   "execution_count": 5,
   "id": "minute-warning",
   "metadata": {
    "execution": {
     "iopub.execute_input": "2021-06-21T11:48:06.587903Z",
     "iopub.status.busy": "2021-06-21T11:48:06.587163Z",
     "iopub.status.idle": "2021-06-21T11:48:06.592066Z",
     "shell.execute_reply": "2021-06-21T11:48:06.591573Z",
     "shell.execute_reply.started": "2021-05-29T12:07:26.954041Z"
    },
    "papermill": {
     "duration": 0.034924,
     "end_time": "2021-06-21T11:48:06.592204",
     "exception": false,
     "start_time": "2021-06-21T11:48:06.557280",
     "status": "completed"
    },
    "tags": []
   },
   "outputs": [
    {
     "data": {
      "text/plain": [
       "(180519, 53)"
      ]
     },
     "execution_count": 5,
     "metadata": {},
     "output_type": "execute_result"
    }
   ],
   "source": [
    "df.shape"
   ]
  },
  {
   "cell_type": "code",
   "execution_count": 6,
   "id": "intelligent-curve",
   "metadata": {
    "execution": {
     "iopub.execute_input": "2021-06-21T11:48:06.648223Z",
     "iopub.status.busy": "2021-06-21T11:48:06.647395Z",
     "iopub.status.idle": "2021-06-21T11:48:06.652131Z",
     "shell.execute_reply": "2021-06-21T11:48:06.651521Z",
     "shell.execute_reply.started": "2021-05-29T12:07:26.962097Z"
    },
    "papermill": {
     "duration": 0.035537,
     "end_time": "2021-06-21T11:48:06.652268",
     "exception": false,
     "start_time": "2021-06-21T11:48:06.616731",
     "status": "completed"
    },
    "tags": []
   },
   "outputs": [
    {
     "data": {
      "text/plain": [
       "Index(['Type', 'Days for shipping (real)', 'Days for shipment (scheduled)',\n",
       "       'Benefit per order', 'Sales per customer', 'Delivery Status',\n",
       "       'Late_delivery_risk', 'Category Id', 'Category Name', 'Customer City',\n",
       "       'Customer Country', 'Customer Email', 'Customer Fname', 'Customer Id',\n",
       "       'Customer Lname', 'Customer Password', 'Customer Segment',\n",
       "       'Customer State', 'Customer Street', 'Customer Zipcode',\n",
       "       'Department Id', 'Department Name', 'Latitude', 'Longitude', 'Market',\n",
       "       'Order City', 'Order Country', 'Order Customer Id',\n",
       "       'order date (DateOrders)', 'Order Id', 'Order Item Cardprod Id',\n",
       "       'Order Item Discount', 'Order Item Discount Rate', 'Order Item Id',\n",
       "       'Order Item Product Price', 'Order Item Profit Ratio',\n",
       "       'Order Item Quantity', 'Sales', 'Order Item Total',\n",
       "       'Order Profit Per Order', 'Order Region', 'Order State', 'Order Status',\n",
       "       'Order Zipcode', 'Product Card Id', 'Product Category Id',\n",
       "       'Product Description', 'Product Image', 'Product Name', 'Product Price',\n",
       "       'Product Status', 'shipping date (DateOrders)', 'Shipping Mode'],\n",
       "      dtype='object')"
      ]
     },
     "execution_count": 6,
     "metadata": {},
     "output_type": "execute_result"
    }
   ],
   "source": [
    "df.columns"
   ]
  },
  {
   "cell_type": "code",
   "execution_count": 7,
   "id": "vietnamese-annual",
   "metadata": {
    "execution": {
     "iopub.execute_input": "2021-06-21T11:48:06.708410Z",
     "iopub.status.busy": "2021-06-21T11:48:06.707772Z",
     "iopub.status.idle": "2021-06-21T11:48:07.140766Z",
     "shell.execute_reply": "2021-06-21T11:48:07.140012Z",
     "shell.execute_reply.started": "2021-05-29T12:07:26.977013Z"
    },
    "papermill": {
     "duration": 0.464155,
     "end_time": "2021-06-21T11:48:07.141250",
     "exception": false,
     "start_time": "2021-06-21T11:48:06.677095",
     "status": "completed"
    },
    "tags": []
   },
   "outputs": [
    {
     "name": "stdout",
     "output_type": "stream",
     "text": [
      "<class 'pandas.core.frame.DataFrame'>\n",
      "RangeIndex: 180519 entries, 0 to 180518\n",
      "Data columns (total 53 columns):\n",
      " #   Column                         Non-Null Count   Dtype  \n",
      "---  ------                         --------------   -----  \n",
      " 0   Type                           180519 non-null  object \n",
      " 1   Days for shipping (real)       180519 non-null  int64  \n",
      " 2   Days for shipment (scheduled)  180519 non-null  int64  \n",
      " 3   Benefit per order              180519 non-null  float64\n",
      " 4   Sales per customer             180519 non-null  float64\n",
      " 5   Delivery Status                180519 non-null  object \n",
      " 6   Late_delivery_risk             180519 non-null  int64  \n",
      " 7   Category Id                    180519 non-null  int64  \n",
      " 8   Category Name                  180519 non-null  object \n",
      " 9   Customer City                  180519 non-null  object \n",
      " 10  Customer Country               180519 non-null  object \n",
      " 11  Customer Email                 180519 non-null  object \n",
      " 12  Customer Fname                 180519 non-null  object \n",
      " 13  Customer Id                    180519 non-null  int64  \n",
      " 14  Customer Lname                 180511 non-null  object \n",
      " 15  Customer Password              180519 non-null  object \n",
      " 16  Customer Segment               180519 non-null  object \n",
      " 17  Customer State                 180519 non-null  object \n",
      " 18  Customer Street                180519 non-null  object \n",
      " 19  Customer Zipcode               180516 non-null  float64\n",
      " 20  Department Id                  180519 non-null  int64  \n",
      " 21  Department Name                180519 non-null  object \n",
      " 22  Latitude                       180519 non-null  float64\n",
      " 23  Longitude                      180519 non-null  float64\n",
      " 24  Market                         180519 non-null  object \n",
      " 25  Order City                     180519 non-null  object \n",
      " 26  Order Country                  180519 non-null  object \n",
      " 27  Order Customer Id              180519 non-null  int64  \n",
      " 28  order date (DateOrders)        180519 non-null  object \n",
      " 29  Order Id                       180519 non-null  int64  \n",
      " 30  Order Item Cardprod Id         180519 non-null  int64  \n",
      " 31  Order Item Discount            180519 non-null  float64\n",
      " 32  Order Item Discount Rate       180519 non-null  float64\n",
      " 33  Order Item Id                  180519 non-null  int64  \n",
      " 34  Order Item Product Price       180519 non-null  float64\n",
      " 35  Order Item Profit Ratio        180519 non-null  float64\n",
      " 36  Order Item Quantity            180519 non-null  int64  \n",
      " 37  Sales                          180519 non-null  float64\n",
      " 38  Order Item Total               180519 non-null  float64\n",
      " 39  Order Profit Per Order         180519 non-null  float64\n",
      " 40  Order Region                   180519 non-null  object \n",
      " 41  Order State                    180519 non-null  object \n",
      " 42  Order Status                   180519 non-null  object \n",
      " 43  Order Zipcode                  24840 non-null   float64\n",
      " 44  Product Card Id                180519 non-null  int64  \n",
      " 45  Product Category Id            180519 non-null  int64  \n",
      " 46  Product Description            0 non-null       float64\n",
      " 47  Product Image                  180519 non-null  object \n",
      " 48  Product Name                   180519 non-null  object \n",
      " 49  Product Price                  180519 non-null  float64\n",
      " 50  Product Status                 180519 non-null  int64  \n",
      " 51  shipping date (DateOrders)     180519 non-null  object \n",
      " 52  Shipping Mode                  180519 non-null  object \n",
      "dtypes: float64(15), int64(14), object(24)\n",
      "memory usage: 73.0+ MB\n"
     ]
    }
   ],
   "source": [
    "df.info()"
   ]
  },
  {
   "cell_type": "code",
   "execution_count": 8,
   "id": "median-network",
   "metadata": {
    "execution": {
     "iopub.execute_input": "2021-06-21T11:48:07.201080Z",
     "iopub.status.busy": "2021-06-21T11:48:07.200189Z",
     "iopub.status.idle": "2021-06-21T11:48:16.093856Z",
     "shell.execute_reply": "2021-06-21T11:48:16.094386Z",
     "shell.execute_reply.started": "2021-05-29T12:07:27.409024Z"
    },
    "papermill": {
     "duration": 8.926321,
     "end_time": "2021-06-21T11:48:16.094591",
     "exception": false,
     "start_time": "2021-06-21T11:48:07.168270",
     "status": "completed"
    },
    "tags": []
   },
   "outputs": [
    {
     "data": {
      "text/plain": [
       "<AxesSubplot:>"
      ]
     },
     "execution_count": 8,
     "metadata": {},
     "output_type": "execute_result"
    },
    {
     "data": {
      "image/png": "[encoded data removed]",
      "text/plain": [
       "<Figure size 432x288 with 2 Axes>"
      ]
     },
     "metadata": {
      "needs_background": "light"
     },
     "output_type": "display_data"
    }
   ],
   "source": [
    "sns.heatmap(df.isnull(),yticklabels=False,cmap=\"viridis\")"
   ]
  },
  {
   "cell_type": "code",
   "execution_count": 9,
   "id": "hawaiian-blackjack",
   "metadata": {
    "execution": {
     "iopub.execute_input": "2021-06-21T11:48:16.156036Z",
     "iopub.status.busy": "2021-06-21T11:48:16.155279Z",
     "iopub.status.idle": "2021-06-21T11:48:16.553398Z",
     "shell.execute_reply": "2021-06-21T11:48:16.552824Z",
     "shell.execute_reply.started": "2021-05-29T12:07:36.014116Z"
    },
    "papermill": {
     "duration": 0.430068,
     "end_time": "2021-06-21T11:48:16.553557",
     "exception": false,
     "start_time": "2021-06-21T11:48:16.123489",
     "status": "completed"
    },
    "tags": []
   },
   "outputs": [
    {
     "data": {
      "text/plain": [
       "Type                                  0\n",
       "Days for shipping (real)              0\n",
       "Days for shipment (scheduled)         0\n",
       "Benefit per order                     0\n",
       "Sales per customer                    0\n",
       "Delivery Status                       0\n",
       "Late_delivery_risk                    0\n",
       "Category Id                           0\n",
       "Category Name                         0\n",
       "Customer City                         0\n",
       "Customer Country                      0\n",
       "Customer Email                        0\n",
       "Customer Fname                        0\n",
       "Customer Id                           0\n",
       "Customer Lname                        8\n",
       "Customer Password                     0\n",
       "Customer Segment                      0\n",
       "Customer State                        0\n",
       "Customer Street                       0\n",
       "Customer Zipcode                      3\n",
       "Department Id                         0\n",
       "Department Name                       0\n",
       "Latitude                              0\n",
       "Longitude                             0\n",
       "Market                                0\n",
       "Order City                            0\n",
       "Order Country                         0\n",
       "Order Customer Id                     0\n",
       "order date (DateOrders)               0\n",
       "Order Id                              0\n",
       "Order Item Cardprod Id                0\n",
       "Order Item Discount                   0\n",
       "Order Item Discount Rate              0\n",
       "Order Item Id                         0\n",
       "Order Item Product Price              0\n",
       "Order Item Profit Ratio               0\n",
       "Order Item Quantity                   0\n",
       "Sales                                 0\n",
       "Order Item Total                      0\n",
       "Order Profit Per Order                0\n",
       "Order Region                          0\n",
       "Order State                           0\n",
       "Order Status                          0\n",
       "Order Zipcode                    155679\n",
       "Product Card Id                       0\n",
       "Product Category Id                   0\n",
       "Product Description              180519\n",
       "Product Image                         0\n",
       "Product Name                          0\n",
       "Product Price                         0\n",
       "Product Status                        0\n",
       "shipping date (DateOrders)            0\n",
       "Shipping Mode                         0\n",
       "dtype: int64"
      ]
     },
     "execution_count": 9,
     "metadata": {},
     "output_type": "execute_result"
    }
   ],
   "source": [
    "df.isnull().sum()"
   ]
  },
  {
   "cell_type": "markdown",
   "id": "trained-apollo",
   "metadata": {
    "papermill": {
     "duration": 0.02663,
     "end_time": "2021-06-21T11:48:16.607767",
     "exception": false,
     "start_time": "2021-06-21T11:48:16.581137",
     "status": "completed"
    },
    "tags": []
   },
   "source": [
    "<strong>Data Cleaning<strong>"
   ]
  },
  {
   "cell_type": "code",
   "execution_count": 10,
   "id": "boxed-newport",
   "metadata": {
    "execution": {
     "iopub.execute_input": "2021-06-21T11:48:16.671754Z",
     "iopub.status.busy": "2021-06-21T11:48:16.668316Z",
     "iopub.status.idle": "2021-06-21T11:48:17.049821Z",
     "shell.execute_reply": "2021-06-21T11:48:17.049132Z",
     "shell.execute_reply.started": "2021-05-29T12:07:36.414509Z"
    },
    "papermill": {
     "duration": 0.415286,
     "end_time": "2021-06-21T11:48:17.049975",
     "exception": false,
     "start_time": "2021-06-21T11:48:16.634689",
     "status": "completed"
    },
    "tags": []
   },
   "outputs": [],
   "source": [
    "df['Customer Full Name'] = df['Customer Fname'].astype(str)+df['Customer Lname'].astype(str)\n",
    "df.drop('Customer Lname',axis=1,inplace=True)\n",
    "df.drop('Product Description',axis=1,inplace=True)\n",
    "df['Customer Zipcode']=df['Customer Zipcode'].fillna(0)\n",
    "df.drop('Order Zipcode',axis=1,inplace=True)"
   ]
  },
  {
   "cell_type": "code",
   "execution_count": 11,
   "id": "brown-daughter",
   "metadata": {
    "execution": {
     "iopub.execute_input": "2021-06-21T11:48:17.486851Z",
     "iopub.status.busy": "2021-06-21T11:48:17.485429Z",
     "iopub.status.idle": "2021-06-21T11:48:25.968103Z",
     "shell.execute_reply": "2021-06-21T11:48:25.967590Z",
     "shell.execute_reply.started": "2021-05-29T12:07:36.789899Z"
    },
    "papermill": {
     "duration": 8.891227,
     "end_time": "2021-06-21T11:48:25.968251",
     "exception": false,
     "start_time": "2021-06-21T11:48:17.077024",
     "status": "completed"
    },
    "tags": []
   },
   "outputs": [
    {
     "data": {
      "text/plain": [
       "<AxesSubplot:>"
      ]
     },
     "execution_count": 11,
     "metadata": {},
     "output_type": "execute_result"
    },
    {
     "data": {
      "image/png": "[encoded data removed]",
      "text/plain": [
       "<Figure size 432x288 with 2 Axes>"
      ]
     },
     "metadata": {
      "needs_background": "light"
     },
     "output_type": "display_data"
    }
   ],
   "source": [
    "sns.heatmap(df.isnull(),yticklabels=False,cmap=\"viridis\")"
   ]
  },
  {
   "cell_type": "markdown",
   "id": "incomplete-median",
   "metadata": {
    "papermill": {
     "duration": 0.028318,
     "end_time": "2021-06-21T11:48:26.026057",
     "exception": false,
     "start_time": "2021-06-21T11:48:25.997739",
     "status": "completed"
    },
    "tags": []
   },
   "source": []
  },
  {
   "cell_type": "markdown",
   "id": "capable-multiple",
   "metadata": {
    "papermill": {
     "duration": 0.028791,
     "end_time": "2021-06-21T11:48:26.083380",
     "exception": false,
     "start_time": "2021-06-21T11:48:26.054589",
     "status": "completed"
    },
    "tags": []
   },
   "source": [
    "<strong>Advanced EDA</strong>"
   ]
  },
  {
   "cell_type": "markdown",
   "id": "treated-justice",
   "metadata": {
    "papermill": {
     "duration": 0.02839,
     "end_time": "2021-06-21T11:48:26.140386",
     "exception": false,
     "start_time": "2021-06-21T11:48:26.111996",
     "status": "completed"
    },
    "tags": []
   },
   "source": [
    "<strong>List all the cities and the respective number of pending orders in India.</strong>"
   ]
  },
  {
   "cell_type": "code",
   "execution_count": 12,
   "id": "dangerous-terminology",
   "metadata": {
    "execution": {
     "iopub.execute_input": "2021-06-21T11:48:26.226557Z",
     "iopub.status.busy": "2021-06-21T11:48:26.225822Z",
     "iopub.status.idle": "2021-06-21T11:48:26.269627Z",
     "shell.execute_reply": "2021-06-21T11:48:26.268999Z",
     "shell.execute_reply.started": "2021-05-29T12:07:45.142979Z"
    },
    "papermill": {
     "duration": 0.10081,
     "end_time": "2021-06-21T11:48:26.269763",
     "exception": false,
     "start_time": "2021-06-21T11:48:26.168953",
     "status": "completed"
    },
    "tags": []
   },
   "outputs": [
    {
     "name": "stdout",
     "output_type": "stream",
     "text": [
      "Number of Cities in India where order status in pending 537\n",
      "The cities in India where order status is Pending\n"
     ]
    },
    {
     "data": {
      "text/html": [
       "<div>\n",
       "<style scoped>\n",
       "    .dataframe tbody tr th:only-of-type {\n",
       "        vertical-align: middle;\n",
       "    }\n",
       "\n",
       "    .dataframe tbody tr th {\n",
       "        vertical-align: top;\n",
       "    }\n",
       "\n",
       "    .dataframe thead th {\n",
       "        text-align: right;\n",
       "    }\n",
       "</style>\n",
       "<table border=\"1\" class=\"dataframe\">\n",
       "  <thead>\n",
       "    <tr style=\"text-align: right;\">\n",
       "      <th></th>\n",
       "      <th>Order City</th>\n",
       "      <th>Order Country</th>\n",
       "      <th>Order Status</th>\n",
       "    </tr>\n",
       "  </thead>\n",
       "  <tbody>\n",
       "    <tr>\n",
       "      <th>1</th>\n",
       "      <td>Bikaner</td>\n",
       "      <td>India</td>\n",
       "      <td>PENDING</td>\n",
       "    </tr>\n",
       "    <tr>\n",
       "      <th>21</th>\n",
       "      <td>Jabalpur</td>\n",
       "      <td>India</td>\n",
       "      <td>PENDING</td>\n",
       "    </tr>\n",
       "    <tr>\n",
       "      <th>45</th>\n",
       "      <td>Bangalore</td>\n",
       "      <td>India</td>\n",
       "      <td>PENDING</td>\n",
       "    </tr>\n",
       "    <tr>\n",
       "      <th>46</th>\n",
       "      <td>Bangalore</td>\n",
       "      <td>India</td>\n",
       "      <td>PENDING</td>\n",
       "    </tr>\n",
       "    <tr>\n",
       "      <th>382</th>\n",
       "      <td>Pune</td>\n",
       "      <td>India</td>\n",
       "      <td>PENDING</td>\n",
       "    </tr>\n",
       "  </tbody>\n",
       "</table>\n",
       "</div>"
      ],
      "text/plain": [
       "    Order City Order Country Order Status\n",
       "1      Bikaner         India      PENDING\n",
       "21    Jabalpur         India      PENDING\n",
       "45   Bangalore         India      PENDING\n",
       "46   Bangalore         India      PENDING\n",
       "382       Pune         India      PENDING"
      ]
     },
     "execution_count": 12,
     "metadata": {},
     "output_type": "execute_result"
    }
   ],
   "source": [
    "data=df[(df['Order Country']=='India') & (df['Order Status']=='PENDING')]\n",
    "print(\"Number of Cities in India where order status in pending\",data[['Order City','Order Country','Order Status']].shape[0])\n",
    "print(\"The cities in India where order status is Pending\")\n",
    "data1=data[['Order City','Order Country','Order Status']]\n",
    "data1.head()\n"
   ]
  },
  {
   "cell_type": "code",
   "execution_count": 13,
   "id": "fourth-trademark",
   "metadata": {
    "execution": {
     "iopub.execute_input": "2021-06-21T11:48:26.336621Z",
     "iopub.status.busy": "2021-06-21T11:48:26.335737Z",
     "iopub.status.idle": "2021-06-21T11:48:27.827502Z",
     "shell.execute_reply": "2021-06-21T11:48:27.826692Z",
     "shell.execute_reply.started": "2021-05-29T12:07:45.210551Z"
    },
    "papermill": {
     "duration": 1.528148,
     "end_time": "2021-06-21T11:48:27.827676",
     "exception": false,
     "start_time": "2021-06-21T11:48:26.299528",
     "status": "completed"
    },
    "tags": []
   },
   "outputs": [
    {
     "data": {
      "image/png": "[encoded data removed]",
      "text/plain": [
       "<Figure size 1440x576 with 1 Axes>"
      ]
     },
     "metadata": {
      "needs_background": "light"
     },
     "output_type": "display_data"
    }
   ],
   "source": [
    "data1=data1['Order City'].value_counts().plot.bar(figsize=(20,8), title=\"Cities with Pending Status\")"
   ]
  },
  {
   "cell_type": "markdown",
   "id": "wicked-characteristic",
   "metadata": {
    "papermill": {
     "duration": 0.03124,
     "end_time": "2021-06-21T11:48:27.891435",
     "exception": false,
     "start_time": "2021-06-21T11:48:27.860195",
     "status": "completed"
    },
    "tags": []
   },
   "source": [
    "<strong>Which country has the most suspected fraud ?</strong>"
   ]
  },
  {
   "cell_type": "code",
   "execution_count": 14,
   "id": "strategic-element",
   "metadata": {
    "execution": {
     "iopub.execute_input": "2021-06-21T11:48:27.984431Z",
     "iopub.status.busy": "2021-06-21T11:48:27.983753Z",
     "iopub.status.idle": "2021-06-21T11:48:28.207124Z",
     "shell.execute_reply": "2021-06-21T11:48:28.207612Z",
     "shell.execute_reply.started": "2021-05-29T12:10:17.055857Z"
    },
    "papermill": {
     "duration": 0.285374,
     "end_time": "2021-06-21T11:48:28.207804",
     "exception": false,
     "start_time": "2021-06-21T11:48:27.922430",
     "status": "completed"
    },
    "tags": []
   },
   "outputs": [
    {
     "data": {
      "image/png": "[encoded data removed]",
      "text/plain": [
       "<Figure size 1440x576 with 1 Axes>"
      ]
     },
     "metadata": {
      "needs_background": "light"
     },
     "output_type": "display_data"
    }
   ],
   "source": [
    "data2=df[df['Order Status']=='SUSPECTED_FRAUD']\n",
    "data2=data2['Order Country'].value_counts().nlargest(10).plot.bar(figsize=(20,8), title=\"Countries with highest Fraud\")\n"
   ]
  },
  {
   "cell_type": "markdown",
   "id": "sharp-grammar",
   "metadata": {
    "papermill": {
     "duration": 0.03179,
     "end_time": "2021-06-21T11:48:28.272087",
     "exception": false,
     "start_time": "2021-06-21T11:48:28.240297",
     "status": "completed"
    },
    "tags": []
   },
   "source": [
    "<center><strong>The country with the highest fraund: Estados Unidos</strong></center> **"
   ]
  },
  {
   "cell_type": "markdown",
   "id": "marked-consultation",
   "metadata": {
    "papermill": {
     "duration": 0.031746,
     "end_time": "2021-06-21T11:48:28.335887",
     "exception": false,
     "start_time": "2021-06-21T11:48:28.304141",
     "status": "completed"
    },
    "tags": []
   },
   "source": [
    "<strong>Which product(s) has/have the maximum discount ?</strong>"
   ]
  },
  {
   "cell_type": "code",
   "execution_count": 15,
   "id": "inside-republic",
   "metadata": {
    "execution": {
     "iopub.execute_input": "2021-06-21T11:48:28.406823Z",
     "iopub.status.busy": "2021-06-21T11:48:28.406091Z",
     "iopub.status.idle": "2021-06-21T11:48:28.423550Z",
     "shell.execute_reply": "2021-06-21T11:48:28.422748Z",
     "shell.execute_reply.started": "2021-05-29T12:07:46.862687Z"
    },
    "papermill": {
     "duration": 0.055497,
     "end_time": "2021-06-21T11:48:28.423722",
     "exception": false,
     "start_time": "2021-06-21T11:48:28.368225",
     "status": "completed"
    },
    "tags": []
   },
   "outputs": [
    {
     "data": {
      "text/html": [
       "<div>\n",
       "<style scoped>\n",
       "    .dataframe tbody tr th:only-of-type {\n",
       "        vertical-align: middle;\n",
       "    }\n",
       "\n",
       "    .dataframe tbody tr th {\n",
       "        vertical-align: top;\n",
       "    }\n",
       "\n",
       "    .dataframe thead th {\n",
       "        text-align: right;\n",
       "    }\n",
       "</style>\n",
       "<table border=\"1\" class=\"dataframe\">\n",
       "  <thead>\n",
       "    <tr style=\"text-align: right;\">\n",
       "      <th></th>\n",
       "      <th>Product Name</th>\n",
       "      <th>Order Item Discount</th>\n",
       "    </tr>\n",
       "  </thead>\n",
       "  <tbody>\n",
       "    <tr>\n",
       "      <th>12606</th>\n",
       "      <td>SOLE E35 Elliptical</td>\n",
       "      <td>500.0</td>\n",
       "    </tr>\n",
       "  </tbody>\n",
       "</table>\n",
       "</div>"
      ],
      "text/plain": [
       "              Product Name  Order Item Discount\n",
       "12606  SOLE E35 Elliptical                500.0"
      ]
     },
     "execution_count": 15,
     "metadata": {},
     "output_type": "execute_result"
    }
   ],
   "source": [
    "max_discount = df['Order Item Discount'].max()\n",
    "data3=df[df['Order Item Discount']==max_discount]\n",
    "data3[['Product Name','Order Item Discount']]"
   ]
  },
  {
   "cell_type": "markdown",
   "id": "conditional-virginia",
   "metadata": {
    "papermill": {
     "duration": 0.033831,
     "end_time": "2021-06-21T11:48:28.491619",
     "exception": false,
     "start_time": "2021-06-21T11:48:28.457788",
     "status": "completed"
    },
    "tags": []
   },
   "source": [
    "<center><strong>The product with the highest discount: SOLE E35 Elliptical</strong></center>"
   ]
  },
  {
   "cell_type": "markdown",
   "id": "painful-remains",
   "metadata": {
    "papermill": {
     "duration": 0.033105,
     "end_time": "2021-06-21T11:48:28.558327",
     "exception": false,
     "start_time": "2021-06-21T11:48:28.525222",
     "status": "completed"
    },
    "tags": []
   },
   "source": [
    "<strong>Which year had the minimum sales of the \"Nike\" Products ?</strong>"
   ]
  },
  {
   "cell_type": "code",
   "execution_count": 16,
   "id": "animated-bachelor",
   "metadata": {
    "execution": {
     "iopub.execute_input": "2021-06-21T11:48:28.635165Z",
     "iopub.status.busy": "2021-06-21T11:48:28.634112Z",
     "iopub.status.idle": "2021-06-21T11:48:29.958813Z",
     "shell.execute_reply": "2021-06-21T11:48:29.959365Z",
     "shell.execute_reply.started": "2021-05-29T12:07:46.881696Z"
    },
    "papermill": {
     "duration": 1.367417,
     "end_time": "2021-06-21T11:48:29.959574",
     "exception": false,
     "start_time": "2021-06-21T11:48:28.592157",
     "status": "completed"
    },
    "tags": []
   },
   "outputs": [
    {
     "data": {
      "text/plain": [
       "[Text(0.5, 1.0, 'Yearly Sales'), Text(0.5, 0, ''), Text(0, 0.5, 'Sales')]"
      ]
     },
     "execution_count": 16,
     "metadata": {},
     "output_type": "execute_result"
    },
    {
     "data": {
      "image/png": "[encoded data removed]",
      "text/plain": [
       "<Figure size 432x288 with 1 Axes>"
      ]
     },
     "metadata": {
      "needs_background": "light"
     },
     "output_type": "display_data"
    }
   ],
   "source": [
    "def fun(row):\n",
    "    if(row.startswith('Nike')):\n",
    "        return 'Nike'\n",
    "    else:\n",
    "        return row\n",
    "df['Product Name'] =df['Product Name'].apply(fun)\n",
    "\n",
    "df['shipping date (DateOrders)'] = pd.to_datetime(df['shipping date (DateOrders)'], format='%m/%d/%Y %H:%M')\n",
    "df['Year'] = pd.DatetimeIndex(df['shipping date (DateOrders)']).year\n",
    "data5 = df[df['Product Name']=='Nike']\n",
    "sns.countplot(x ='Product Name', data = data5,hue='Year').set(title='Yearly Sales', xlabel='', ylabel='Sales')"
   ]
  },
  {
   "cell_type": "markdown",
   "id": "intended-metadata",
   "metadata": {
    "papermill": {
     "duration": 0.03367,
     "end_time": "2021-06-21T11:48:30.027385",
     "exception": false,
     "start_time": "2021-06-21T11:48:29.993715",
     "status": "completed"
    },
    "tags": []
   },
   "source": [
    "<center><strong>In the year 2017 minimum Nike Prodcts were sold</strong></center>"
   ]
  },
  {
   "cell_type": "code",
   "execution_count": 17,
   "id": "functional-publisher",
   "metadata": {
    "execution": {
     "iopub.execute_input": "2021-06-21T11:48:30.098666Z",
     "iopub.status.busy": "2021-06-21T11:48:30.098007Z",
     "iopub.status.idle": "2021-06-21T11:48:30.117565Z",
     "shell.execute_reply": "2021-06-21T11:48:30.118027Z",
     "shell.execute_reply.started": "2021-05-29T12:07:48.18118Z"
    },
    "papermill": {
     "duration": 0.057259,
     "end_time": "2021-06-21T11:48:30.118204",
     "exception": false,
     "start_time": "2021-06-21T11:48:30.060945",
     "status": "completed"
    },
    "tags": []
   },
   "outputs": [
    {
     "data": {
      "text/plain": [
       "array(['COMPLETE', 'PENDING', 'CLOSED', 'PENDING_PAYMENT', 'CANCELED',\n",
       "       'PROCESSING', 'SUSPECTED_FRAUD', 'ON_HOLD', 'PAYMENT_REVIEW'],\n",
       "      dtype=object)"
      ]
     },
     "execution_count": 17,
     "metadata": {},
     "output_type": "execute_result"
    }
   ],
   "source": [
    "df['Order Status'].unique()"
   ]
  },
  {
   "cell_type": "markdown",
   "id": "jewish-speaker",
   "metadata": {
    "papermill": {
     "duration": 0.033986,
     "end_time": "2021-06-21T11:48:30.186147",
     "exception": false,
     "start_time": "2021-06-21T11:48:30.152161",
     "status": "completed"
    },
    "tags": []
   },
   "source": [
    "<strong>How may successfully processed orders have days for shipping real(Real)>Days for shipment(Scheduled) ?</strong>"
   ]
  },
  {
   "cell_type": "code",
   "execution_count": 18,
   "id": "ethical-deputy",
   "metadata": {
    "execution": {
     "iopub.execute_input": "2021-06-21T11:48:30.258036Z",
     "iopub.status.busy": "2021-06-21T11:48:30.257388Z",
     "iopub.status.idle": "2021-06-21T11:48:30.339359Z",
     "shell.execute_reply": "2021-06-21T11:48:30.338829Z",
     "shell.execute_reply.started": "2021-05-29T12:07:48.203979Z"
    },
    "papermill": {
     "duration": 0.119269,
     "end_time": "2021-06-21T11:48:30.339504",
     "exception": false,
     "start_time": "2021-06-21T11:48:30.220235",
     "status": "completed"
    },
    "tags": []
   },
   "outputs": [
    {
     "data": {
      "text/plain": [
       "53815"
      ]
     },
     "execution_count": 18,
     "metadata": {},
     "output_type": "execute_result"
    }
   ],
   "source": [
    "data4=df[(df[\"Days for shipping (real)\"] > df[\"Days for shipment (scheduled)\"]) & (df['Order Status']=='COMPLETE')|(df['Order Status']=='CLOSED')]\n",
    "data4.shape[0]"
   ]
  },
  {
   "cell_type": "markdown",
   "id": "electrical-address",
   "metadata": {
    "papermill": {
     "duration": 0.034019,
     "end_time": "2021-06-21T11:48:30.407762",
     "exception": false,
     "start_time": "2021-06-21T11:48:30.373743",
     "status": "completed"
    },
    "tags": []
   },
   "source": [
    "<center><strong>The number of successfully processed Days for shipping(real) is greater than Days for shipment(scheduled)  is 103400</strong></center>"
   ]
  }
 ],
 "metadata": {
  "kernelspec": {
   "display_name": "Python 3",
   "language": "python",
   "name": "python3"
  },
  "language_info": {
   "codemirror_mode": {
    "name": "ipython",
    "version": 3
   },
   "file_extension": ".py",
   "mimetype": "text/x-python",
   "name": "python",
   "nbconvert_exporter": "python",
   "pygments_lexer": "ipython3",
   "version": "3.7.10"
  },
  "papermill": {
   "default_parameters": {},
   "duration": 38.975511,
   "end_time": "2021-06-21T11:48:31.854598",
   "environment_variables": {},
   "exception": null,
   "input_path": "__notebook__.ipynb",
   "output_path": "__notebook__.ipynb",
   "parameters": {},
   "start_time": "2021-06-21T11:47:52.879087",
   "version": "2.3.3"
  }
 },
 "nbformat": 4,
 "nbformat_minor": 5
}
